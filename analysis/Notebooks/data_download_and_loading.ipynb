{
  "nbformat": 4,
  "nbformat_minor": 0,
  "metadata": {
    "colab": {
      "provenance": []
    },
    "kernelspec": {
      "name": "python3",
      "display_name": "Python 3"
    },
    "language_info": {
      "name": "python"
    }
  },
  "cells": [
    {
      "cell_type": "code",
      "execution_count": null,
      "metadata": {
        "id": "1LvpmhrNzjaG"
      },
      "outputs": [],
      "source": [
        "from google.colab import files\n",
        "from tqdm import tqdm\n",
        "# uploaded = files.upload()\n",
        "import gcsfs\n",
        "import os\n",
        "import pandas as pd\n",
        "import glob\n",
        "import dask.dataframe as dd\n",
        "import re\n",
        "import matplotlib.pyplot as plt\n",
        "import matplotlib.ticker as mtick\n",
        "from dask.diagnostics import ProgressBar\n",
        "import numpy as np\n",
        "import networkx as nx\n",
        "import itertools\n",
        "import random"
      ]
    },
    {
      "cell_type": "code",
      "source": [
        "# adding a progress bar for every code run using dask\n",
        "ProgressBar().register()"
      ],
      "metadata": {
        "id": "Ew8Xy3Bj0EIo"
      },
      "execution_count": null,
      "outputs": []
    },
    {
      "cell_type": "code",
      "source": [
        "# uploaded = files.upload()\n",
        "# making a filesystem fs to download the parquet data files\n",
        "fs = gcsfs.GCSFileSystem(project='zippy-avatar-454716-s7',\n",
        "                         token='zippy-avatar-454716-s7-6ce326d91b28.json')"
      ],
      "metadata": {
        "id": "jzSoWZAu0GSQ"
      },
      "execution_count": null,
      "outputs": []
    },
    {
      "cell_type": "code",
      "source": [
        "# to check the totol number of files in the gcp bucket\n",
        "files1 = fs.ls('github-networks-bucket/feb_apr_2019_export')\n",
        "files2 = fs.ls('github-networks-bucket/feb_apr_2020_export')\n",
        "print(f\"Total files: {len(files1)}\")\n",
        "print(f\"Total files: {len(files2)}\")\n",
        "# print(files[:5])  # Show a few filenames"
      ],
      "metadata": {
        "colab": {
          "base_uri": "https://localhost:8080/"
        },
        "id": "eUhzFOvT0JGe",
        "outputId": "4b1d9ddc-4434-4ab7-9c2e-5a949dc4cb3e"
      },
      "execution_count": null,
      "outputs": [
        {
          "output_type": "stream",
          "name": "stdout",
          "text": [
            "Total files: 2500\n",
            "Total files: 5000\n"
          ]
        }
      ]
    },
    {
      "cell_type": "code",
      "source": [
        "# checking the data for the 1st file\n",
        "with fs.open(files1[0]) as f:\n",
        "    df = pd.read_parquet(f)\n",
        "\n",
        "df.head()"
      ],
      "metadata": {
        "colab": {
          "base_uri": "https://localhost:8080/",
          "height": 206
        },
        "id": "kfnUrTh00Lp2",
        "outputId": "8c72bd8c-7d21-42a5-eab6-213b55cb65b5"
      },
      "execution_count": null,
      "outputs": [
        {
          "output_type": "execute_result",
          "data": {
            "text/plain": [
              "           id         type          created_at           actor  \\\n",
              "0  9467373391  IssuesEvent 2019-04-18 08:08:45  kuntalacharyya   \n",
              "1  9163166325  IssuesEvent 2019-03-01 15:16:55             GUI   \n",
              "2  9513437118  IssuesEvent 2019-04-25 20:41:28         fureigh   \n",
              "3  9425887876  IssuesEvent 2019-04-11 17:10:01    soyeb-jim285   \n",
              "4  9025313667  IssuesEvent 2019-02-07 13:07:32        ciarmcom   \n",
              "\n",
              "                          repo  \\\n",
              "0                  01org/isa-l   \n",
              "1             18F/api.data.gov   \n",
              "2  18F/federal-grant-reporting   \n",
              "3                   3b1b/manim   \n",
              "4       ARMmbed/mbed-os-5-docs   \n",
              "\n",
              "                                             payload  \n",
              "0  {\"action\":\"closed\",\"issue\":{\"url\":\"https://api...  \n",
              "1  {\"action\":\"closed\",\"issue\":{\"url\":\"https://api...  \n",
              "2  {\"action\":\"closed\",\"issue\":{\"url\":\"https://api...  \n",
              "3  {\"action\":\"closed\",\"issue\":{\"url\":\"https://api...  \n",
              "4  {\"action\":\"closed\",\"issue\":{\"url\":\"https://api...  "
            ],
            "text/html": [
              "\n",
              "  <div id=\"df-0ffd1746-3d74-4d77-82bd-0c9177738c8c\" class=\"colab-df-container\">\n",
              "    <div>\n",
              "<style scoped>\n",
              "    .dataframe tbody tr th:only-of-type {\n",
              "        vertical-align: middle;\n",
              "    }\n",
              "\n",
              "    .dataframe tbody tr th {\n",
              "        vertical-align: top;\n",
              "    }\n",
              "\n",
              "    .dataframe thead th {\n",
              "        text-align: right;\n",
              "    }\n",
              "</style>\n",
              "<table border=\"1\" class=\"dataframe\">\n",
              "  <thead>\n",
              "    <tr style=\"text-align: right;\">\n",
              "      <th></th>\n",
              "      <th>id</th>\n",
              "      <th>type</th>\n",
              "      <th>created_at</th>\n",
              "      <th>actor</th>\n",
              "      <th>repo</th>\n",
              "      <th>payload</th>\n",
              "    </tr>\n",
              "  </thead>\n",
              "  <tbody>\n",
              "    <tr>\n",
              "      <th>0</th>\n",
              "      <td>9467373391</td>\n",
              "      <td>IssuesEvent</td>\n",
              "      <td>2019-04-18 08:08:45</td>\n",
              "      <td>kuntalacharyya</td>\n",
              "      <td>01org/isa-l</td>\n",
              "      <td>{\"action\":\"closed\",\"issue\":{\"url\":\"https://api...</td>\n",
              "    </tr>\n",
              "    <tr>\n",
              "      <th>1</th>\n",
              "      <td>9163166325</td>\n",
              "      <td>IssuesEvent</td>\n",
              "      <td>2019-03-01 15:16:55</td>\n",
              "      <td>GUI</td>\n",
              "      <td>18F/api.data.gov</td>\n",
              "      <td>{\"action\":\"closed\",\"issue\":{\"url\":\"https://api...</td>\n",
              "    </tr>\n",
              "    <tr>\n",
              "      <th>2</th>\n",
              "      <td>9513437118</td>\n",
              "      <td>IssuesEvent</td>\n",
              "      <td>2019-04-25 20:41:28</td>\n",
              "      <td>fureigh</td>\n",
              "      <td>18F/federal-grant-reporting</td>\n",
              "      <td>{\"action\":\"closed\",\"issue\":{\"url\":\"https://api...</td>\n",
              "    </tr>\n",
              "    <tr>\n",
              "      <th>3</th>\n",
              "      <td>9425887876</td>\n",
              "      <td>IssuesEvent</td>\n",
              "      <td>2019-04-11 17:10:01</td>\n",
              "      <td>soyeb-jim285</td>\n",
              "      <td>3b1b/manim</td>\n",
              "      <td>{\"action\":\"closed\",\"issue\":{\"url\":\"https://api...</td>\n",
              "    </tr>\n",
              "    <tr>\n",
              "      <th>4</th>\n",
              "      <td>9025313667</td>\n",
              "      <td>IssuesEvent</td>\n",
              "      <td>2019-02-07 13:07:32</td>\n",
              "      <td>ciarmcom</td>\n",
              "      <td>ARMmbed/mbed-os-5-docs</td>\n",
              "      <td>{\"action\":\"closed\",\"issue\":{\"url\":\"https://api...</td>\n",
              "    </tr>\n",
              "  </tbody>\n",
              "</table>\n",
              "</div>\n",
              "    <div class=\"colab-df-buttons\">\n",
              "\n",
              "  <div class=\"colab-df-container\">\n",
              "    <button class=\"colab-df-convert\" onclick=\"convertToInteractive('df-0ffd1746-3d74-4d77-82bd-0c9177738c8c')\"\n",
              "            title=\"Convert this dataframe to an interactive table.\"\n",
              "            style=\"display:none;\">\n",
              "\n",
              "  <svg xmlns=\"http://www.w3.org/2000/svg\" height=\"24px\" viewBox=\"0 -960 960 960\">\n",
              "    <path d=\"M120-120v-720h720v720H120Zm60-500h600v-160H180v160Zm220 220h160v-160H400v160Zm0 220h160v-160H400v160ZM180-400h160v-160H180v160Zm440 0h160v-160H620v160ZM180-180h160v-160H180v160Zm440 0h160v-160H620v160Z\"/>\n",
              "  </svg>\n",
              "    </button>\n",
              "\n",
              "  <style>\n",
              "    .colab-df-container {\n",
              "      display:flex;\n",
              "      gap: 12px;\n",
              "    }\n",
              "\n",
              "    .colab-df-convert {\n",
              "      background-color: #E8F0FE;\n",
              "      border: none;\n",
              "      border-radius: 50%;\n",
              "      cursor: pointer;\n",
              "      display: none;\n",
              "      fill: #1967D2;\n",
              "      height: 32px;\n",
              "      padding: 0 0 0 0;\n",
              "      width: 32px;\n",
              "    }\n",
              "\n",
              "    .colab-df-convert:hover {\n",
              "      background-color: #E2EBFA;\n",
              "      box-shadow: 0px 1px 2px rgba(60, 64, 67, 0.3), 0px 1px 3px 1px rgba(60, 64, 67, 0.15);\n",
              "      fill: #174EA6;\n",
              "    }\n",
              "\n",
              "    .colab-df-buttons div {\n",
              "      margin-bottom: 4px;\n",
              "    }\n",
              "\n",
              "    [theme=dark] .colab-df-convert {\n",
              "      background-color: #3B4455;\n",
              "      fill: #D2E3FC;\n",
              "    }\n",
              "\n",
              "    [theme=dark] .colab-df-convert:hover {\n",
              "      background-color: #434B5C;\n",
              "      box-shadow: 0px 1px 3px 1px rgba(0, 0, 0, 0.15);\n",
              "      filter: drop-shadow(0px 1px 2px rgba(0, 0, 0, 0.3));\n",
              "      fill: #FFFFFF;\n",
              "    }\n",
              "  </style>\n",
              "\n",
              "    <script>\n",
              "      const buttonEl =\n",
              "        document.querySelector('#df-0ffd1746-3d74-4d77-82bd-0c9177738c8c button.colab-df-convert');\n",
              "      buttonEl.style.display =\n",
              "        google.colab.kernel.accessAllowed ? 'block' : 'none';\n",
              "\n",
              "      async function convertToInteractive(key) {\n",
              "        const element = document.querySelector('#df-0ffd1746-3d74-4d77-82bd-0c9177738c8c');\n",
              "        const dataTable =\n",
              "          await google.colab.kernel.invokeFunction('convertToInteractive',\n",
              "                                                    [key], {});\n",
              "        if (!dataTable) return;\n",
              "\n",
              "        const docLinkHtml = 'Like what you see? Visit the ' +\n",
              "          '<a target=\"_blank\" href=https://colab.research.google.com/notebooks/data_table.ipynb>data table notebook</a>'\n",
              "          + ' to learn more about interactive tables.';\n",
              "        element.innerHTML = '';\n",
              "        dataTable['output_type'] = 'display_data';\n",
              "        await google.colab.output.renderOutput(dataTable, element);\n",
              "        const docLink = document.createElement('div');\n",
              "        docLink.innerHTML = docLinkHtml;\n",
              "        element.appendChild(docLink);\n",
              "      }\n",
              "    </script>\n",
              "  </div>\n",
              "\n",
              "\n",
              "<div id=\"df-579a7a3d-d5bd-469f-b330-770361ede4b0\">\n",
              "  <button class=\"colab-df-quickchart\" onclick=\"quickchart('df-579a7a3d-d5bd-469f-b330-770361ede4b0')\"\n",
              "            title=\"Suggest charts\"\n",
              "            style=\"display:none;\">\n",
              "\n",
              "<svg xmlns=\"http://www.w3.org/2000/svg\" height=\"24px\"viewBox=\"0 0 24 24\"\n",
              "     width=\"24px\">\n",
              "    <g>\n",
              "        <path d=\"M19 3H5c-1.1 0-2 .9-2 2v14c0 1.1.9 2 2 2h14c1.1 0 2-.9 2-2V5c0-1.1-.9-2-2-2zM9 17H7v-7h2v7zm4 0h-2V7h2v10zm4 0h-2v-4h2v4z\"/>\n",
              "    </g>\n",
              "</svg>\n",
              "  </button>\n",
              "\n",
              "<style>\n",
              "  .colab-df-quickchart {\n",
              "      --bg-color: #E8F0FE;\n",
              "      --fill-color: #1967D2;\n",
              "      --hover-bg-color: #E2EBFA;\n",
              "      --hover-fill-color: #174EA6;\n",
              "      --disabled-fill-color: #AAA;\n",
              "      --disabled-bg-color: #DDD;\n",
              "  }\n",
              "\n",
              "  [theme=dark] .colab-df-quickchart {\n",
              "      --bg-color: #3B4455;\n",
              "      --fill-color: #D2E3FC;\n",
              "      --hover-bg-color: #434B5C;\n",
              "      --hover-fill-color: #FFFFFF;\n",
              "      --disabled-bg-color: #3B4455;\n",
              "      --disabled-fill-color: #666;\n",
              "  }\n",
              "\n",
              "  .colab-df-quickchart {\n",
              "    background-color: var(--bg-color);\n",
              "    border: none;\n",
              "    border-radius: 50%;\n",
              "    cursor: pointer;\n",
              "    display: none;\n",
              "    fill: var(--fill-color);\n",
              "    height: 32px;\n",
              "    padding: 0;\n",
              "    width: 32px;\n",
              "  }\n",
              "\n",
              "  .colab-df-quickchart:hover {\n",
              "    background-color: var(--hover-bg-color);\n",
              "    box-shadow: 0 1px 2px rgba(60, 64, 67, 0.3), 0 1px 3px 1px rgba(60, 64, 67, 0.15);\n",
              "    fill: var(--button-hover-fill-color);\n",
              "  }\n",
              "\n",
              "  .colab-df-quickchart-complete:disabled,\n",
              "  .colab-df-quickchart-complete:disabled:hover {\n",
              "    background-color: var(--disabled-bg-color);\n",
              "    fill: var(--disabled-fill-color);\n",
              "    box-shadow: none;\n",
              "  }\n",
              "\n",
              "  .colab-df-spinner {\n",
              "    border: 2px solid var(--fill-color);\n",
              "    border-color: transparent;\n",
              "    border-bottom-color: var(--fill-color);\n",
              "    animation:\n",
              "      spin 1s steps(1) infinite;\n",
              "  }\n",
              "\n",
              "  @keyframes spin {\n",
              "    0% {\n",
              "      border-color: transparent;\n",
              "      border-bottom-color: var(--fill-color);\n",
              "      border-left-color: var(--fill-color);\n",
              "    }\n",
              "    20% {\n",
              "      border-color: transparent;\n",
              "      border-left-color: var(--fill-color);\n",
              "      border-top-color: var(--fill-color);\n",
              "    }\n",
              "    30% {\n",
              "      border-color: transparent;\n",
              "      border-left-color: var(--fill-color);\n",
              "      border-top-color: var(--fill-color);\n",
              "      border-right-color: var(--fill-color);\n",
              "    }\n",
              "    40% {\n",
              "      border-color: transparent;\n",
              "      border-right-color: var(--fill-color);\n",
              "      border-top-color: var(--fill-color);\n",
              "    }\n",
              "    60% {\n",
              "      border-color: transparent;\n",
              "      border-right-color: var(--fill-color);\n",
              "    }\n",
              "    80% {\n",
              "      border-color: transparent;\n",
              "      border-right-color: var(--fill-color);\n",
              "      border-bottom-color: var(--fill-color);\n",
              "    }\n",
              "    90% {\n",
              "      border-color: transparent;\n",
              "      border-bottom-color: var(--fill-color);\n",
              "    }\n",
              "  }\n",
              "</style>\n",
              "\n",
              "  <script>\n",
              "    async function quickchart(key) {\n",
              "      const quickchartButtonEl =\n",
              "        document.querySelector('#' + key + ' button');\n",
              "      quickchartButtonEl.disabled = true;  // To prevent multiple clicks.\n",
              "      quickchartButtonEl.classList.add('colab-df-spinner');\n",
              "      try {\n",
              "        const charts = await google.colab.kernel.invokeFunction(\n",
              "            'suggestCharts', [key], {});\n",
              "      } catch (error) {\n",
              "        console.error('Error during call to suggestCharts:', error);\n",
              "      }\n",
              "      quickchartButtonEl.classList.remove('colab-df-spinner');\n",
              "      quickchartButtonEl.classList.add('colab-df-quickchart-complete');\n",
              "    }\n",
              "    (() => {\n",
              "      let quickchartButtonEl =\n",
              "        document.querySelector('#df-579a7a3d-d5bd-469f-b330-770361ede4b0 button');\n",
              "      quickchartButtonEl.style.display =\n",
              "        google.colab.kernel.accessAllowed ? 'block' : 'none';\n",
              "    })();\n",
              "  </script>\n",
              "</div>\n",
              "\n",
              "    </div>\n",
              "  </div>\n"
            ],
            "application/vnd.google.colaboratory.intrinsic+json": {
              "type": "dataframe",
              "variable_name": "df",
              "summary": "{\n  \"name\": \"df\",\n  \"rows\": 26577,\n  \"fields\": [\n    {\n      \"column\": \"id\",\n      \"properties\": {\n        \"dtype\": \"string\",\n        \"num_unique_values\": 26577,\n        \"samples\": [\n          \"9124113156\",\n          \"9222310686\",\n          \"9479586831\"\n        ],\n        \"semantic_type\": \"\",\n        \"description\": \"\"\n      }\n    },\n    {\n      \"column\": \"type\",\n      \"properties\": {\n        \"dtype\": \"category\",\n        \"num_unique_values\": 13,\n        \"samples\": [\n          \"DeleteEvent\",\n          \"GollumEvent\",\n          \"IssuesEvent\"\n        ],\n        \"semantic_type\": \"\",\n        \"description\": \"\"\n      }\n    },\n    {\n      \"column\": \"created_at\",\n      \"properties\": {\n        \"dtype\": \"date\",\n        \"min\": \"2019-02-01 00:00:04\",\n        \"max\": \"2019-04-30 23:51:05\",\n        \"num_unique_values\": 26520,\n        \"samples\": [\n          \"2019-04-25 11:39:04\",\n          \"2019-02-15 05:54:03\",\n          \"2019-03-06 23:38:45\"\n        ],\n        \"semantic_type\": \"\",\n        \"description\": \"\"\n      }\n    },\n    {\n      \"column\": \"actor\",\n      \"properties\": {\n        \"dtype\": \"string\",\n        \"num_unique_values\": 20663,\n        \"samples\": [\n          \"gzagatti\",\n          \"Shulun\",\n          \"upchuk\"\n        ],\n        \"semantic_type\": \"\",\n        \"description\": \"\"\n      }\n    },\n    {\n      \"column\": \"repo\",\n      \"properties\": {\n        \"dtype\": \"string\",\n        \"num_unique_values\": 20643,\n        \"samples\": [\n          \"devotox/ember-cli-utilities\",\n          \"Nightmayr/FootballManager-AccountApi\",\n          \"vipshop/hiredis-vip\"\n        ],\n        \"semantic_type\": \"\",\n        \"description\": \"\"\n      }\n    },\n    {\n      \"column\": \"payload\",\n      \"properties\": {\n        \"dtype\": \"string\",\n        \"num_unique_values\": 21655,\n        \"samples\": [\n          \"{\\\"push_id\\\":3403828121,\\\"size\\\":2,\\\"distinct_size\\\":1,\\\"ref\\\":\\\"refs/heads/ps-migrations\\\",\\\"head\\\":\\\"130bcbc580e414e28c2fde96442c097ed381f2d0\\\",\\\"before\\\":\\\"b5242fa0f0f06f4b5a3635230556c852ce7eebe2\\\",\\\"commits\\\":[{\\\"sha\\\":\\\"e435528ff00132cbc66acbf5453702d41e6275bb\\\",\\\"author\\\":{\\\"name\\\":\\\"yumfriez\\\",\\\"email\\\":\\\"777b59130c047b668fe6f2f50d970408ee0894c6@gmail.com\\\"},\\\"message\\\":\\\"Bulk users/launches removing request fix\\\",\\\"distinct\\\":false,\\\"url\\\":\\\"https://api.github.com/repos/reportportal/service-api/commits/e435528ff00132cbc66acbf5453702d41e6275bb\\\"},{\\\"sha\\\":\\\"130bcbc580e414e28c2fde96442c097ed381f2d0\\\",\\\"author\\\":{\\\"name\\\":\\\"Pavel Bortnik\\\",\\\"email\\\":\\\"3f1dd9057a1ae259fcf9dd20e2e282078a823e07@epam.com\\\"},\\\"message\\\":\\\"Merge pull request #650 from reportportal/bulk-delete-fix-api\\\\n\\\\nEPMRPP-33855 || Bulk users/launches removing request fix\\\",\\\"distinct\\\":true,\\\"url\\\":\\\"https://api.github.com/repos/reportportal/service-api/commits/130bcbc580e414e28c2fde96442c097ed381f2d0\\\"}]}\",\n          \"{\\\"action\\\":\\\"opened\\\",\\\"issue\\\":{\\\"url\\\":\\\"https://api.github.com/repos/hzuapps/uml-modeling-2019/issues/174\\\",\\\"repository_url\\\":\\\"https://api.github.com/repos/hzuapps/uml-modeling-2019\\\",\\\"labels_url\\\":\\\"https://api.github.com/repos/hzuapps/uml-modeling-2019/issues/174/labels{/name}\\\",\\\"comments_url\\\":\\\"https://api.github.com/repos/hzuapps/uml-modeling-2019/issues/174/comments\\\",\\\"events_url\\\":\\\"https://api.github.com/repos/hzuapps/uml-modeling-2019/issues/174/events\\\",\\\"html_url\\\":\\\"https://github.com/hzuapps/uml-modeling-2019/issues/174\\\",\\\"id\\\":416492684,\\\"node_id\\\":\\\"MDU6SXNzdWU0MTY0OTI2ODQ=\\\",\\\"number\\\":174,\\\"title\\\":\\\"\\u9ebb\\u82b1\\u85e4\\u6e38\\u620f\\u8d26\\u53f7\\u7ba1\\u7406\\\",\\\"user\\\":{\\\"login\\\":\\\"zexinc\\\",\\\"id\\\":37904793,\\\"node_id\\\":\\\"MDQ6VXNlcjM3OTA0Nzkz\\\",\\\"avatar_url\\\":\\\"https://avatars1.githubusercontent.com/u/37904793?v=4\\\",\\\"gravatar_id\\\":\\\"\\\",\\\"url\\\":\\\"https://api.github.com/users/zexinc\\\",\\\"html_url\\\":\\\"https://github.com/zexinc\\\",\\\"followers_url\\\":\\\"https://api.github.com/users/zexinc/followers\\\",\\\"following_url\\\":\\\"https://api.github.com/users/zexinc/following{/other_user}\\\",\\\"gists_url\\\":\\\"https://api.github.com/users/zexinc/gists{/gist_id}\\\",\\\"starred_url\\\":\\\"https://api.github.com/users/zexinc/starred{/owner}{/repo}\\\",\\\"subscriptions_url\\\":\\\"https://api.github.com/users/zexinc/subscriptions\\\",\\\"organizations_url\\\":\\\"https://api.github.com/users/zexinc/orgs\\\",\\\"repos_url\\\":\\\"https://api.github.com/users/zexinc/repos\\\",\\\"events_url\\\":\\\"https://api.github.com/users/zexinc/events{/privacy}\\\",\\\"received_events_url\\\":\\\"https://api.github.com/users/zexinc/received_events\\\",\\\"type\\\":\\\"User\\\",\\\"site_admin\\\":false},\\\"labels\\\":[],\\\"state\\\":\\\"open\\\",\\\"locked\\\":false,\\\"assignee\\\":null,\\\"assignees\\\":[],\\\"milestone\\\":null,\\\"comments\\\":0,\\\"created_at\\\":\\\"2019-03-03T09:02:02Z\\\",\\\"updated_at\\\":\\\"2019-03-03T09:02:02Z\\\",\\\"closed_at\\\":null,\\\"author_association\\\":\\\"NONE\\\",\\\"body\\\":\\\"1.\\u6e38\\u620f\\u5e10\\u53f7\\u8bb0\\u5f55\\u529f\\u80fd\\\\r\\\\n2.\\u5e10\\u53f7\\u641c\\u7d22\\u529f\\u80fd\\\"}}\",\n          \"{\\\"action\\\":\\\"created\\\",\\\"issue\\\":{\\\"url\\\":\\\"https://api.github.com/repos/ezekielaquino/Marquee3000/issues/3\\\",\\\"repository_url\\\":\\\"https://api.github.com/repos/ezekielaquino/Marquee3000\\\",\\\"labels_url\\\":\\\"https://api.github.com/repos/ezekielaquino/Marquee3000/issues/3/labels{/name}\\\",\\\"comments_url\\\":\\\"https://api.github.com/repos/ezekielaquino/Marquee3000/issues/3/comments\\\",\\\"events_url\\\":\\\"https://api.github.com/repos/ezekielaquino/Marquee3000/issues/3/events\\\",\\\"html_url\\\":\\\"https://github.com/ezekielaquino/Marquee3000/issues/3\\\",\\\"id\\\":237773828,\\\"node_id\\\":\\\"MDU6SXNzdWUyMzc3NzM4Mjg=\\\",\\\"number\\\":3,\\\"title\\\":\\\"Destroying the instance\\\",\\\"user\\\":{\\\"login\\\":\\\"arnasziedavicius\\\",\\\"id\\\":5957816,\\\"node_id\\\":\\\"MDQ6VXNlcjU5NTc4MTY=\\\",\\\"avatar_url\\\":\\\"https://avatars3.githubusercontent.com/u/5957816?v=4\\\",\\\"gravatar_id\\\":\\\"\\\",\\\"url\\\":\\\"https://api.github.com/users/arnasziedavicius\\\",\\\"html_url\\\":\\\"https://github.com/arnasziedavicius\\\",\\\"followers_url\\\":\\\"https://api.github.com/users/arnasziedavicius/followers\\\",\\\"following_url\\\":\\\"https://api.github.com/users/arnasziedavicius/following{/other_user}\\\",\\\"gists_url\\\":\\\"https://api.github.com/users/arnasziedavicius/gists{/gist_id}\\\",\\\"starred_url\\\":\\\"https://api.github.com/users/arnasziedavicius/starred{/owner}{/repo}\\\",\\\"subscriptions_url\\\":\\\"https://api.github.com/users/arnasziedavicius/subscriptions\\\",\\\"organizations_url\\\":\\\"https://api.github.com/users/arnasziedavicius/orgs\\\",\\\"repos_url\\\":\\\"https://api.github.com/users/arnasziedavicius/repos\\\",\\\"events_url\\\":\\\"https://api.github.com/users/arnasziedavicius/events{/privacy}\\\",\\\"received_events_url\\\":\\\"https://api.github.com/users/arnasziedavicius/received_events\\\",\\\"type\\\":\\\"User\\\",\\\"site_admin\\\":false},\\\"labels\\\":[],\\\"state\\\":\\\"open\\\",\\\"locked\\\":false,\\\"assignee\\\":null,\\\"assignees\\\":[],\\\"milestone\\\":null,\\\"comments\\\":5,\\\"created_at\\\":\\\"2017-06-22T08:47:57Z\\\",\\\"updated_at\\\":\\\"2019-02-27T15:07:30Z\\\",\\\"closed_at\\\":null,\\\"author_association\\\":\\\"NONE\\\",\\\"body\\\":\\\"Great little script!\\\\r\\\\n\\\\r\\\\nWas wondering if there's a way to destroy the instance?\\\\r\\\\n\\\\r\\\\nI have a situation where Marquee3k keeps initialising and as a consequence accelerating the speed.\\\"},\\\"comment\\\":{\\\"url\\\":\\\"https://api.github.com/repos/ezekielaquino/Marquee3000/issues/comments/467897637\\\",\\\"html_url\\\":\\\"https://github.com/ezekielaquino/Marquee3000/issues/3#issuecomment-467897637\\\",\\\"issue_url\\\":\\\"https://api.github.com/repos/ezekielaquino/Marquee3000/issues/3\\\",\\\"id\\\":467897637,\\\"node_id\\\":\\\"MDEyOklzc3VlQ29tbWVudDQ2Nzg5NzYzNw==\\\",\\\"user\\\":{\\\"login\\\":\\\"GoAndrew\\\",\\\"id\\\":2500169,\\\"node_id\\\":\\\"MDQ6VXNlcjI1MDAxNjk=\\\",\\\"avatar_url\\\":\\\"https://avatars2.githubusercontent.com/u/2500169?v=4\\\",\\\"gravatar_id\\\":\\\"\\\",\\\"url\\\":\\\"https://api.github.com/users/GoAndrew\\\",\\\"html_url\\\":\\\"https://github.com/GoAndrew\\\",\\\"followers_url\\\":\\\"https://api.github.com/users/GoAndrew/followers\\\",\\\"following_url\\\":\\\"https://api.github.com/users/GoAndrew/following{/other_user}\\\",\\\"gists_url\\\":\\\"https://api.github.com/users/GoAndrew/gists{/gist_id}\\\",\\\"starred_url\\\":\\\"https://api.github.com/users/GoAndrew/starred{/owner}{/repo}\\\",\\\"subscriptions_url\\\":\\\"https://api.github.com/users/GoAndrew/subscriptions\\\",\\\"organizations_url\\\":\\\"https://api.github.com/users/GoAndrew/orgs\\\",\\\"repos_url\\\":\\\"https://api.github.com/users/GoAndrew/repos\\\",\\\"events_url\\\":\\\"https://api.github.com/users/GoAndrew/events{/privacy}\\\",\\\"received_events_url\\\":\\\"https://api.github.com/users/GoAndrew/received_events\\\",\\\"type\\\":\\\"User\\\",\\\"site_admin\\\":false},\\\"created_at\\\":\\\"2019-02-27T15:07:30Z\\\",\\\"updated_at\\\":\\\"2019-02-27T15:07:30Z\\\",\\\"author_association\\\":\\\"NONE\\\",\\\"body\\\":\\\"> hi! trying to implement the `animationId` trick as well, but not working. Here the complete code:\\\\r\\\\n> \\\\r\\\\n> ```\\\\r\\\\n> static init(options = { selector: 'marquee3k' }) {\\\\r\\\\n>       var animationId; // set variable\\\\r\\\\n>       window.cancelAnimationFrame(animationId); // kill it;\\\\r\\\\n>       window.MARQUEES = [];\\\\r\\\\n>       const marquees = Array.from(document.querySelectorAll(`.${options.selector}`));\\\\r\\\\n>       let previousWidth = window.innerWidth;\\\\r\\\\n>       let timer;\\\\r\\\\n> \\\\r\\\\n>       for (let i = 0; i < marquees.length; i++) {\\\\r\\\\n>         const marquee = marquees[i];\\\\r\\\\n>         const instance = new Marquee3k(marquee, options);\\\\r\\\\n>         MARQUEES.push(instance);\\\\r\\\\n>       }\\\\r\\\\n> \\\\r\\\\n>       animate();\\\\r\\\\n> \\\\r\\\\n>       function animate() {\\\\r\\\\n>         for (let i = 0; i < MARQUEES.length; i++) {\\\\r\\\\n>           MARQUEES[i].animate();\\\\r\\\\n>         }\\\\r\\\\n>         animationId = window.requestAnimationFrame(animate); // save values to variable\\\\r\\\\n>       }\\\\r\\\\n> ```\\\\r\\\\n> i'm doing this on a js-spa website, and any time i'm mounting / unmounting a component the speed of the marquee keeps increasing.\\\\r\\\\n> \\\\r\\\\n> am i setting the variable at the wrong place?\\\\r\\\\n> \\\\r\\\\n> thanks, af\\\\r\\\\n\\\\r\\\\nJust write in unmounting function **window.MARQUEES = null**\\\"}}\"\n        ],\n        \"semantic_type\": \"\",\n        \"description\": \"\"\n      }\n    }\n  ]\n}"
            }
          },
          "metadata": {},
          "execution_count": 6
        }
      ]
    },
    {
      "cell_type": "code",
      "source": [
        "# making a directory\n",
        "local_dir_2019 = \"/content/feb_apr_2019_export\"\n",
        "local_dir_2020 = \"/content/feb_apr_2020_export\"\n",
        "\n",
        "os.makedirs(local_dir_2019, exist_ok=True)\n",
        "os.makedirs(local_dir_2020, exist_ok=True)"
      ],
      "metadata": {
        "id": "0tdpJwte0MTC"
      },
      "execution_count": null,
      "outputs": []
    },
    {
      "cell_type": "code",
      "source": [
        "# downloading and storing the data\n",
        "for file in tqdm(files1, desc = \"Downloading 2019 files\", unit = \"file\"):\n",
        "  local_path = os.path.join(local_dir_2019, os.path.basename(file))\n",
        "  with fs.open(file, 'rb') as fsrc, open(local_path, 'wb') as fdst:\n",
        "    fdst.write(fsrc.read())\n",
        "\n",
        "for file in tqdm(files2, desc = \"Downloading 2020 files\", unit = \"file\"):\n",
        "  local_path = os.path.join(local_dir_2020, os.path.basename(file))\n",
        "  with fs.open(file, 'rb') as fsrc, open(local_path, 'wb') as fdst:\n",
        "    fdst.write(fsrc.read())"
      ],
      "metadata": {
        "colab": {
          "base_uri": "https://localhost:8080/"
        },
        "id": "WrcpE0Jg0OlA",
        "outputId": "1efb8d96-73fb-4c4c-d9e6-026378831545"
      },
      "execution_count": null,
      "outputs": [
        {
          "output_type": "stream",
          "name": "stderr",
          "text": [
            "Downloading 2019 files: 100%|██████████| 2500/2500 [56:35<00:00,  1.36s/file]\n",
            "Downloading 2020 files: 100%|██████████| 5000/5000 [1:51:08<00:00,  1.33s/file]\n"
          ]
        }
      ]
    },
    {
      "cell_type": "code",
      "source": [
        "parquet_files1 = glob.glob(\"/content/feb_apr_2019_export/*.parquet\")\n",
        "parquet_files2 = glob.glob(\"/content/feb_apr_2020_export/*.parquet\")\n",
        "\n",
        "print(len(parquet_files1 + parquet_files2))"
      ],
      "metadata": {
        "colab": {
          "base_uri": "https://localhost:8080/"
        },
        "id": "yNxZWken0Ryt",
        "outputId": "db119762-b5c1-409d-efad-0aa175d4bdaf"
      },
      "execution_count": null,
      "outputs": [
        {
          "output_type": "stream",
          "name": "stdout",
          "text": [
            "7500\n"
          ]
        }
      ]
    },
    {
      "cell_type": "code",
      "source": [
        "# Using dask to create a lazy df\n",
        "df_feb_apr_19 = dd.read_parquet(\"/content/feb_apr_2019_export/*.parquet\")\n",
        "df_feb_apr_20 = dd.read_parquet(\"/content/feb_apr_2020_export/*.parquet\")"
      ],
      "metadata": {
        "id": "eI-Kf3N90UJ3"
      },
      "execution_count": null,
      "outputs": []
    },
    {
      "cell_type": "code",
      "source": [
        "df_feb_apr_19.head()\n",
        "df_feb_apr_20.head()"
      ],
      "metadata": {
        "id": "-FtYTECf1Iwy"
      },
      "execution_count": null,
      "outputs": []
    }
  ]
}